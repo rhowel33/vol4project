{
 "cells": [
  {
   "cell_type": "code",
   "execution_count": 1,
   "id": "5aaee769",
   "metadata": {},
   "outputs": [],
   "source": [
    "import numpy as np\n",
    "from scipy.integrate import solve_bvp\n",
    "import matplotlib.pyplot as plt"
   ]
  },
  {
   "cell_type": "code",
   "execution_count": 2,
   "id": "9ff9c128",
   "metadata": {},
   "outputs": [],
   "source": [
    "def obstacle(x,y,W1=1,r=(1,1),c=(0,0)):\n",
    "    '''\n",
    "    Define an area that will represent an obstacle\n",
    "    \n",
    "    Parameters:\n",
    "        x (float): x position in space\n",
    "        y (float): y position in space\n",
    "        W1 (float): weight of cost\n",
    "        r (tuple): radius in x and y direction\n",
    "        c (tuple): center of the ellipse\n",
    "    '''\n",
    "\n",
    "    ellipse = ((x - c[0])**2/r[0] + (y - c[1])**2/r[1])**20 + 1\n",
    "\n",
    "    return W1 / ellipse\n",
    "\n",
    "def obstacle_dx(x,y,W1=1,r=(1,1,),c=(0,0)):\n",
    "    '''\n",
    "    x derivative of the obstacle\n",
    "\n",
    "    Parameters:\n",
    "        x (float): x position in space\n",
    "        y (float): y position in space\n",
    "        W (float): weight of cost\n",
    "        r (tuple): radius in x and y direction\n",
    "        c (tuple): center of the ellipse\n",
    "    '''\n",
    "\n",
    "    circle = (x - c[0])**2/r[0] + (y - c[1])**2/r[1]\n",
    "    numer = -40* W1 * (x-c[0])*(circle)**19\n",
    "    denom = r[0]*((circle)**20 + 1)**2\n",
    "\n",
    "    return numer / denom\n",
    "\n",
    "def obstacle_dy(x,y,W1=1,r=(1,1,),c=(0,0)):\n",
    "    '''\n",
    "    y derivative of the obstacle\n",
    "\n",
    "    Parameters:\n",
    "        x (float): x position in space\n",
    "        y (float): y position in space\n",
    "        W1 (float): weight of cost\n",
    "        r (tuple): radius in x and y direction\n",
    "        c (tuple): center of the ellipse\n",
    "    '''\n",
    "\n",
    "    circle = (x - c[0])**2/r[0] + (y - c[1])**2/r[1]\n",
    "    numer = -40 * W1 * (y-c[1])*(circle)**19\n",
    "    denom = r[1]*((circle)**20 + 1)**2\n",
    "\n",
    "    return numer / denom"
   ]
  },
  {
   "cell_type": "code",
   "execution_count": 3,
   "id": "b7522827",
   "metadata": {},
   "outputs": [],
   "source": [
    "def prob2():\n",
    "    '''\n",
    "    Find the optimal path for the fixed time horizon problem\n",
    "    '''\n",
    "    alpha, beta, gamma, delta = 5, 5, 1, 1\n",
    "    cx, cy = 0.5, 0.5\n",
    "    r = 0.01\n",
    "    start_x, start_y, start_vx, start_vy, start_theta = 0.1, 0.5, 0, 0, 0\n",
    "    end_x, end_y, end_vx, end_vy, end_theta = 0.9, 0.5, 0, 0, 0\n",
    "    lambda_1, lambda_2 = 3, 3\n",
    "    def ode(t, y):\n",
    "        #y0=s1, y1=s2, y2=s3, y3=s4, y4=s5, y5=p1, y6=p2, y7=p3, y8=p4, y9=p5\n",
    "        u0 = -(y[7]*np.cos(y[4])+y[8]*np.sin(y[4]))/(2*gamma)\n",
    "        u1 = -y[9]/(2*delta)\n",
    "        denom = (y[0]-cx)**2+(y[1]-cy)**2-r**2\n",
    "        p1 = beta * lambda_1 * (1/y[0]**(lambda_1+1)-1/(1-y[0])**(lambda_1+1)) - 2 * lambda_2 * alpha * (y[0]-cx) / denom**(lambda_2+1)\n",
    "        p2 = beta * lambda_1 * (1/y[1]**(lambda_1+1)-1/(1-y[1])**(lambda_1+1)) - 2 * lambda_2 * alpha * (y[1]-cy) / denom**(lambda_2+1)\n",
    "        return [y[2], y[3], u0*np.cos(y[4]), u0*np.sin(y[4]), u1, \n",
    "                p1, p2, -y[5], -y[6], u0*(y[7]*np.sin(y[4])-y[8]*np.sin(y[4]))]\n",
    "    bc = lambda ya, yb: [ya[0]-start_x, ya[1]-start_y, ya[2]-start_vx, ya[3]-start_vy, ya[4]-start_theta,\n",
    "                         yb[0]-end_x, yb[1]-end_y, yb[2]-end_vx, yb[3]-end_vy, yb[4]-end_theta]\n",
    "    t_steps = 100001\n",
    "    t = np.linspace(0, 1, t_steps)\n",
    "    y0 = np.random.rand(10,t_steps)\n",
    "    sol = solve_bvp(ode, bc, t, y0, max_nodes=30000)\n",
    "    plt.plot(sol.y[0], sol.y[1], 'r', label=\"optimal path\")\n",
    "    # Plot obstacle\n",
    "    domain_x = np.linspace(0, 1, 1001)\n",
    "    domain_y = np.linspace(0, 1, 1001)\n",
    "    X, Y = np.meshgrid(domain_x, domain_y)\n",
    "    z = obstacle(X, Y, 1, (r, r), (cx, cy))\n",
    "    plt.contour(X, Y, z)\n",
    "    plt.legend()\n",
    "    plt.xlabel('x')\n",
    "    plt.ylabel('y')\n",
    "    plt.show()\n",
    "    # Limit to (1,1) grid\n",
    "    plt.plot(sol.y[0], sol.y[1], 'r', label=\"optimal path\")\n",
    "    X, Y = np.meshgrid(domain_x, domain_y)\n",
    "    z = obstacle(X, Y, 1, (r, r), (cx, cy))\n",
    "    plt.contour(X, Y, z)\n",
    "    plt.legend()\n",
    "    plt.ylim(0,1)\n",
    "    plt.xlim(0,1)\n",
    "    plt.xlabel('x')\n",
    "    plt.ylabel('y')\n",
    "    plt.show()\n",
    "    return sol"
   ]
  },
  {
   "cell_type": "code",
   "execution_count": 4,
   "id": "432e660f",
   "metadata": {},
   "outputs": [
    {
     "data": {
      "image/png": "[encoded data removed]",
      "text/plain": [
       "<Figure size 432x288 with 1 Axes>"
      ]
     },
     "metadata": {
      "needs_background": "light"
     },
     "output_type": "display_data"
    },
    {
     "data": {
      "image/png": "[encoded data removed]",
      "text/plain": [
       "<Figure size 432x288 with 1 Axes>"
      ]
     },
     "metadata": {
      "needs_background": "light"
     },
     "output_type": "display_data"
    }
   ],
   "source": [
    "sol = prob2()"
   ]
  },
  {
   "cell_type": "code",
   "execution_count": 5,
   "id": "49c62457",
   "metadata": {},
   "outputs": [
    {
     "data": {
      "text/plain": [
       "(10, 100001)"
      ]
     },
     "execution_count": 5,
     "metadata": {},
     "output_type": "execute_result"
    }
   ],
   "source": [
    "sol.y.shape"
   ]
  },
  {
   "cell_type": "code",
   "execution_count": null,
   "id": "0a59ff44",
   "metadata": {},
   "outputs": [],
   "source": []
  }
 ],
 "metadata": {
  "kernelspec": {
   "display_name": "Python 3",
   "language": "python",
   "name": "python3"
  },
  "language_info": {
   "codemirror_mode": {
    "name": "ipython",
    "version": 3
   },
   "file_extension": ".py",
   "mimetype": "text/x-python",
   "name": "python",
   "nbconvert_exporter": "python",
   "pygments_lexer": "ipython3",
   "version": "3.8.8"
  }
 },
 "nbformat": 4,
 "nbformat_minor": 5
}
